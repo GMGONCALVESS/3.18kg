{
 "cells": [
  {
   "cell_type": "code",
   "execution_count": null,
   "id": "cb72906f-ce71-49a5-935b-208b659de8ac",
   "metadata": {},
   "outputs": [],
   "source": []
  }
 ],
 "metadata": {
  "kernelspec": {
   "display_name": "",
   "name": ""
  },
  "language_info": {
   "name": ""
  }
 },
 "nbformat": 4,
 "nbformat_minor": 5
}
