{
 "cells": [
  {
   "cell_type": "code",
   "execution_count": 1,
   "id": "c925ef4c-3ba6-4ceb-b650-81588cd34206",
   "metadata": {},
   "outputs": [
    {
     "name": "stdout",
     "output_type": "stream",
     "text": [
      "[1 2 3]\n"
     ]
    },
    {
     "data": {
      "text/plain": [
       "numpy.ndarray"
      ]
     },
     "execution_count": 1,
     "metadata": {},
     "output_type": "execute_result"
    }
   ],
   "source": [
    "import numpy as np\n",
    "\n",
    "arr = np.array([1,2,3])\n",
    "\n",
    "print(arr)\n",
    "\n",
    "type(arr)"
   ]
  },
  {
   "cell_type": "code",
   "execution_count": 2,
   "id": "636b3804-cf62-4e85-805f-8660f616edec",
   "metadata": {},
   "outputs": [
    {
     "name": "stdout",
     "output_type": "stream",
     "text": [
      "1.26.4\n"
     ]
    }
   ],
   "source": [
    "print(np.__version__)"
   ]
  },
  {
   "cell_type": "code",
   "execution_count": 3,
   "id": "ed559466-46a7-47fa-bd40-1e70e758730b",
   "metadata": {},
   "outputs": [
    {
     "data": {
      "text/plain": [
       "''"
      ]
     },
     "execution_count": 3,
     "metadata": {},
     "output_type": "execute_result"
    }
   ],
   "source": [
    "__ * 2"
   ]
  },
  {
   "cell_type": "code",
   "execution_count": 53,
   "id": "7636393b-2351-4c56-97e7-338dce670659",
   "metadata": {},
   "outputs": [
    {
     "name": "stdout",
     "output_type": "stream",
     "text": [
      "2\n",
      "2\n",
      "[[[[1 2 3]]]]\n",
      "4\n"
     ]
    }
   ],
   "source": [
    "arr1 = np.array([[1,2,3],[3,3,3]])\n",
    "arr2 = np.array([1,2,3], ndmin = 4)\n",
    "\n",
    "print(arr1[0][1])\n",
    "print(arr1.ndim)\n",
    "\n",
    "print(arr2)\n",
    "print(arr2.ndim)"
   ]
  },
  {
   "cell_type": "code",
   "execution_count": 17,
   "id": "03d98416-7f70-4a54-94a3-bf63ad5d8422",
   "metadata": {},
   "outputs": [
    {
     "name": "stdout",
     "output_type": "stream",
     "text": [
      "[1 2 3]\n",
      "[3 3 3]\n"
     ]
    }
   ],
   "source": [
    "print(arr1[0])\n",
    "print(arr1[1])"
   ]
  },
  {
   "cell_type": "code",
   "execution_count": 19,
   "id": "8be1d618-80b2-4692-8f0c-2b7766fe2d50",
   "metadata": {},
   "outputs": [
    {
     "name": "stdout",
     "output_type": "stream",
     "text": [
      "[2 3 4 5]\n"
     ]
    }
   ],
   "source": [
    "arr = np.array([1, 2, 3, 4, 5, 6, 7])\n",
    "\n",
    "print(arr[1:5]) # inicio:fim-1"
   ]
  },
  {
   "cell_type": "code",
   "execution_count": 20,
   "id": "31b49e0f-4fb2-467d-8005-95816f7fe5df",
   "metadata": {},
   "outputs": [
    {
     "name": "stdout",
     "output_type": "stream",
     "text": [
      "[3 2 3 4 5]\n",
      "[1 2 3 4 5]\n",
      "[3 2 3 4 5]\n"
     ]
    }
   ],
   "source": [
    "vetor = np.array([1,2,3,4,5])\n",
    "\n",
    "copia = vetor.copy()\n",
    "\n",
    "vista= vetor.view()\n",
    "\n",
    "vetor[0] = 3.14\n",
    "\n",
    "print(vetor)\n",
    "print(copia)\n",
    "print(vista)"
   ]
  },
  {
   "cell_type": "code",
   "execution_count": 21,
   "id": "3cbea9a4-4ab9-4687-b2ca-68a01c30dbba",
   "metadata": {},
   "outputs": [
    {
     "name": "stdout",
     "output_type": "stream",
     "text": [
      "None\n"
     ]
    }
   ],
   "source": [
    "print(copia.base)"
   ]
  },
  {
   "cell_type": "code",
   "execution_count": 22,
   "id": "99e5f1dd-b398-4e69-bb7b-1b832dd8b140",
   "metadata": {},
   "outputs": [
    {
     "name": "stdout",
     "output_type": "stream",
     "text": [
      "[3 2 3 4 5]\n"
     ]
    }
   ],
   "source": [
    "print(vista.base)"
   ]
  },
  {
   "cell_type": "code",
   "execution_count": 23,
   "id": "852a82a0-41a7-412c-a149-c5e4ee94cd62",
   "metadata": {},
   "outputs": [
    {
     "name": "stdout",
     "output_type": "stream",
     "text": [
      "None\n"
     ]
    }
   ],
   "source": [
    "print(vetor.base)"
   ]
  },
  {
   "cell_type": "code",
   "execution_count": 24,
   "id": "e1570cfa-92d7-4d70-ae20-86e8668fc00f",
   "metadata": {},
   "outputs": [
    {
     "name": "stdout",
     "output_type": "stream",
     "text": [
      "(1, 1, 1, 3)\n"
     ]
    }
   ],
   "source": [
    "# Mede as dimensões do array\n",
    "print(arr2.shape)"
   ]
  },
  {
   "cell_type": "code",
   "execution_count": 28,
   "id": "473b31a9-82f6-423c-89cf-13a9d687eb9f",
   "metadata": {},
   "outputs": [
    {
     "name": "stdout",
     "output_type": "stream",
     "text": [
      "[ 1  2  3  4  5  6  7  8  9 10 11 12]\n",
      "[[ 1  2]\n",
      " [ 3  4]\n",
      " [ 5  6]\n",
      " [ 7  8]\n",
      " [ 9 10]\n",
      " [11 12]]\n"
     ]
    }
   ],
   "source": [
    "arr = np.array([1, 2, 3, 4, 5, 6, 7, 8, 9, 10, 11, 12])\n",
    "\n",
    "newarr = arr.reshape(6, 2)\n",
    "print(arr)\n",
    "print(newarr)"
   ]
  },
  {
   "cell_type": "code",
   "execution_count": 32,
   "id": "cd01a4a3-a9ad-471a-bd02-8b76b2b16fba",
   "metadata": {},
   "outputs": [
    {
     "name": "stdout",
     "output_type": "stream",
     "text": [
      "[1 2 3 4 5 6]\n",
      "[1 2 3 4 5 6]\n"
     ]
    }
   ],
   "source": [
    "arr4 = np.array([[1, 2, 3], [4, 5, 6]])\n",
    "\n",
    "newarr = arr4.reshape(-1)\n",
    "newarr1 = arr4.reshape(6)\n",
    "\n",
    "print(newarr)\n",
    "print(newarr1)"
   ]
  },
  {
   "cell_type": "code",
   "execution_count": 31,
   "id": "ddc33267-b5db-40b4-8c15-e68356fa477d",
   "metadata": {},
   "outputs": [
    {
     "name": "stdout",
     "output_type": "stream",
     "text": [
      "1\n",
      "2\n",
      "3\n"
     ]
    }
   ],
   "source": [
    "arr = np.array([1, 2, 3])\n",
    "\n",
    "for x in arr:\n",
    "  print(x)"
   ]
  },
  {
   "cell_type": "code",
   "execution_count": 33,
   "id": "e27ef657-92c5-41e0-b455-f7ff3b5697cd",
   "metadata": {},
   "outputs": [
    {
     "name": "stdout",
     "output_type": "stream",
     "text": [
      "1\n",
      "2\n",
      "3\n",
      "4\n",
      "5\n",
      "6\n"
     ]
    }
   ],
   "source": [
    "for x in np.nditer(arr4):\n",
    "  print(x)"
   ]
  },
  {
   "cell_type": "code",
   "execution_count": 34,
   "id": "04f13f83-a6f8-4792-aed3-0d48f3640032",
   "metadata": {},
   "outputs": [
    {
     "name": "stdout",
     "output_type": "stream",
     "text": [
      "1\n",
      "3\n",
      "5\n",
      "7\n"
     ]
    }
   ],
   "source": [
    "arr = np.array([[1, 2, 3, 4], [5, 6, 7, 8]])\n",
    "\n",
    "for x in np.nditer(arr[:, ::2]): #trocar : por 1 --> resultado: 5,7\n",
    "  print(x)"
   ]
  },
  {
   "cell_type": "code",
   "execution_count": 36,
   "id": "346bfbb2-1147-42e3-bc62-fdb072190042",
   "metadata": {},
   "outputs": [
    {
     "name": "stdout",
     "output_type": "stream",
     "text": [
      "<numpy.ndenumerate object at 0x000001AD34160350>\n"
     ]
    }
   ],
   "source": [
    "print(np.ndenumerate(arr))"
   ]
  },
  {
   "cell_type": "code",
   "execution_count": 37,
   "id": "001be22a-24e7-45c0-8105-8b36d53b9245",
   "metadata": {},
   "outputs": [
    {
     "name": "stdout",
     "output_type": "stream",
     "text": [
      "(0,) 1\n",
      "(1,) 2\n",
      "(2,) 3\n"
     ]
    }
   ],
   "source": [
    "arr = np.array([1, 2, 3])\n",
    "\n",
    "for idx, x in np.ndenumerate(arr):\n",
    "  print(idx, x)"
   ]
  },
  {
   "cell_type": "markdown",
   "id": "b059e51f-bded-4003-a6ab-795fcd92b14e",
   "metadata": {},
   "source": [
    "# Concatenando Arrays Numpy"
   ]
  },
  {
   "cell_type": "code",
   "execution_count": 46,
   "id": "e95840f9-751f-458d-a90e-4419ffd44d95",
   "metadata": {},
   "outputs": [
    {
     "name": "stdout",
     "output_type": "stream",
     "text": [
      "[1 2 3 4 5 6]\n",
      "[[1 2 3]\n",
      " [4 5 6]]\n"
     ]
    }
   ],
   "source": [
    "arr_a = np.array([1,2,3])\n",
    "\n",
    "arr_b = np.array([4,5,6])\n",
    "\n",
    "arr_c = np.concatenate((arr_a, arr_b), axis=0)\n",
    "\n",
    "arr_d = np.stack((arr_a, arr_b), axis=0)\n",
    "\n",
    "print(arr_c)\n",
    "\n",
    "print(arr_d)"
   ]
  },
  {
   "cell_type": "code",
   "execution_count": 47,
   "id": "b7b6e028-e518-447e-b4f3-0b7363e84a03",
   "metadata": {},
   "outputs": [
    {
     "name": "stdout",
     "output_type": "stream",
     "text": [
      "[1 2 3 4 5 6]\n"
     ]
    }
   ],
   "source": [
    "arr1 = np.array([1, 2, 3])\n",
    "\n",
    "arr2 = np.array([4, 5, 6])\n",
    "\n",
    "arr = np.hstack((arr1, arr2))\n",
    "\n",
    "print(arr)"
   ]
  },
  {
   "cell_type": "code",
   "execution_count": 48,
   "id": "f90bdf28-0299-4b54-a735-e56fadc76548",
   "metadata": {},
   "outputs": [
    {
     "name": "stdout",
     "output_type": "stream",
     "text": [
      "[[1 2 3]\n",
      " [4 5 6]]\n"
     ]
    }
   ],
   "source": [
    "arr1 = np.array([1, 2, 3])\n",
    "\n",
    "arr2 = np.array([4, 5, 6])\n",
    "\n",
    "arr = np.vstack((arr1, arr2))\n",
    "\n",
    "print(arr)"
   ]
  },
  {
   "cell_type": "code",
   "execution_count": 49,
   "id": "29a47e04-a035-4f61-a7e8-c038d8a90475",
   "metadata": {},
   "outputs": [
    {
     "name": "stdout",
     "output_type": "stream",
     "text": [
      "[[ 1  2  3]\n",
      " [ 4  5  6]\n",
      " [ 7  8  9]\n",
      " [10 11 12]\n",
      " [13 14 15]\n",
      " [16 17 18]]\n",
      "2\n",
      "(6, 3)\n"
     ]
    }
   ],
   "source": [
    "arr = np.array([[1, 2, 3], [4, 5, 6], [7, 8, 9], [10, 11, 12], [13, 14, 15], [16, 17, 18]])\n",
    "print(arr)\n",
    "print(arr.ndim)\n",
    "print(arr.shape)"
   ]
  },
  {
   "cell_type": "code",
   "execution_count": 51,
   "id": "de198d50-7666-4fb2-9a4e-9992342f5456",
   "metadata": {},
   "outputs": [
    {
     "name": "stdout",
     "output_type": "stream",
     "text": [
      "(array([3, 5, 6], dtype=int64),)\n"
     ]
    }
   ],
   "source": [
    "arr = np.array([1, 2, 3, 4, 5, 4, 4])\n",
    "\n",
    "x = np.where(arr == 4)\n",
    "\n",
    "print(x)"
   ]
  },
  {
   "cell_type": "markdown",
   "id": "0dfe8de0-d397-4fb1-928f-86fc34c2e4aa",
   "metadata": {},
   "source": [
    "# Filtrando e lembra do sort"
   ]
  },
  {
   "cell_type": "code",
   "execution_count": 54,
   "id": "509ad750-ba72-41ac-96c2-c2123fad215e",
   "metadata": {},
   "outputs": [
    {
     "name": "stdout",
     "output_type": "stream",
     "text": [
      "[41 43]\n"
     ]
    }
   ],
   "source": [
    "arr = np.array([41, 42, 43, 44])\n",
    "\n",
    "x = arr[[True, False, True, False]]\n",
    "\n",
    "print(x)"
   ]
  },
  {
   "cell_type": "markdown",
   "id": "7836b519-acd5-4ef3-b09a-095f6ffa065e",
   "metadata": {},
   "source": [
    "# Tratando de números Random"
   ]
  },
  {
   "cell_type": "code",
   "execution_count": null,
   "id": "74d0d8fb-1e44-4156-aaa9-fb253eb9b2e5",
   "metadata": {},
   "outputs": [],
   "source": []
  }
 ],
 "metadata": {
  "kernelspec": {
   "display_name": "Python 3 (ipykernel)",
   "language": "python",
   "name": "python3"
  },
  "language_info": {
   "codemirror_mode": {
    "name": "ipython",
    "version": 3
   },
   "file_extension": ".py",
   "mimetype": "text/x-python",
   "name": "python",
   "nbconvert_exporter": "python",
   "pygments_lexer": "ipython3",
   "version": "3.12.7"
  }
 },
 "nbformat": 4,
 "nbformat_minor": 5
}
