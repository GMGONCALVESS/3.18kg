{
 "cells": [
  {
   "cell_type": "code",
   "execution_count": 18,
   "id": "2d559528-feba-45df-9249-f29aa67c7e7d",
   "metadata": {},
   "outputs": [],
   "source": [
    "import requests\n",
    "import base64\n",
    "from base64 import b64encode\n",
    "import json\n",
    "import pandas as pd\n",
    "\n",
    "client_id = 'uHpXjsZAi49A'\n",
    "client_secret = '2tZrvxqLYZ1N'\n",
    "\n",
    "auth_string = f\"{client_id}:{client_secret}\"\n",
    "auth_bytes = auth_string.encode(\"ascii\")\n",
    "auth = base64.b64encode(auth_bytes).decode(\"ascii\")\n",
    "\n",
    "auth_headers = {\n",
    "    'Content-Type': 'application/x-www-form-urlencoded',\n",
    "    'Authorization': f'Basic {auth}'\n",
    "    }\n",
    "\n",
    "# Corpo da requisição de autenticação\n",
    "auth_data = {\n",
    "    'grant_type': 'client_credentials'\n",
    "}\n",
    "\n",
    "auth_url = 'https://api.anbima.com.br/oauth/access-token'\n",
    "\n",
    "auth_response = requests.post(auth_url, headers=auth_headers, data=auth_data)\n",
    "\n",
    "access_token = auth_response.json().get('access_token')\n",
    "\n",
    "headers = {\n",
    "            'access_token': access_token,\n",
    "          'client_id' : client_id\n",
    "}\n",
    "\n",
    "data_url = 'https://api.anbima.com.br/feed/precos-indices/v1/debentures/mercado-secundario'\n",
    "\n",
    "data_response = requests.get(data_url, headers=headers)\n",
    "\n",
    "if data_response.status_code == 200:\n",
    "    data = data_response.json()\n",
    "else:\n",
    "    print(f\"Erro ao obter os dados: {data_response.status_code} - {data_response.text}\")\n",
    "\n",
    "# df_TPF = pd.DataFrame(data)\n",
    "# df_TPF.rename(columns={'index': 'indexador'}, inplace=True)\n",
    "\n",
    "# URL do endpoint de CRI e CRA\n",
    "# data_url = 'https://api.anbima.com.br/feed/precos-indices/v1/cri-cra/mercado-secundario'\n",
    "# # Fazer a requisição GET para obter os dados\n",
    "# data_response = requests.get(data_url, headers=headers)\n",
    "# # Verificar se a requisição foi bem-sucedida\n",
    "# if data_response.status_code == 200:\n",
    "#     # Exibir os dados obtidos\n",
    "#     data = data_response.json()\n",
    "# else:\n",
    "#     print(f\"Erro ao obter os dados: {data_response.status_code} - {data_response.text}\")\n",
    "\n",
    "# df_CRICRA = pd.DataFrame(data)\n",
    "\n",
    "# # URL do endpoint de Debentures\n",
    "# data_url = 'https://api.anbima.com.br/feed/precos-indices/v1/debentures/mercado-secundario'\n",
    "# # Fazer a requisição GET para obter os dados\n",
    "# data_response = requests.get(data_url, headers=headers)\n",
    "# # Verificar se a requisição foi bem-sucedida\n",
    "# if data_response.status_code == 200:\n",
    "#     # Exibir os dados obtidos\n",
    "#     data = data_response.json()\n",
    "# else:\n",
    "#     print(f\"Erro ao obter os dados: {data_response.status_code} - {data_response.text}\")\n",
    "\n",
    "# df_debentures = pd.DataFrame(data)\n",
    "\n",
    "# # URL do endpoint de SELIC\n",
    "# data_url = 'https://api.anbima.com.br/feed/precos-indices/v1/titulos-publicos/estimativa-selic'\n",
    "# # Fazer a requisição GET para obter os dados\n",
    "# data_response = requests.get(data_url, headers=headers)\n",
    "# # Verificar se a requisição foi bem-sucedida\n",
    "# if data_response.status_code == 200:\n",
    "#     # Exibir os dados obtidos\n",
    "#     data = data_response.json()\n",
    "# else:\n",
    "#     print(f\"Erro ao obter os dados: {data_response.status_code} - {data_response.text}\")\n",
    "\n",
    "# df_selic = pd.DataFrame(data)\n",
    "\n",
    "# # URL do endpoint de vna\n",
    "# data_url = 'https://api.anbima.com.br/feed/precos-indices/v1/titulos-publicos/vna'\n",
    "# # Fazer a requisição GET para obter os dados\n",
    "# data_response = requests.get(data_url, headers=headers)\n",
    "# # Verificar se a requisição foi bem-sucedida\n",
    "# if data_response.status_code == 200:\n",
    "#     # Exibir os dados obtidos\n",
    "#     data = data_response.json()\n",
    "# else:\n",
    "#     print(f\"Erro ao obter os dados: {data_response.status_code} - {data_response.text}\")\n",
    "\n",
    "# df_vna = pd.json_normalize(data, 'titulos', ['data_referencia'])\n"
   ]
  },
  {
   "cell_type": "code",
   "execution_count": 27,
   "id": "793cfc75-fa3b-4a70-8b7e-d575b7fed375",
   "metadata": {},
   "outputs": [
    {
     "name": "stdout",
     "output_type": "stream",
     "text": [
      "{'grupo': 'DI SPREAD', 'codigo_ativo': 'AALM12', 'data_referencia': '2025-01-24', 'data_vencimento': '2030-10-02', 'percentual_taxa': 'DI + 1,6000%', 'taxa_compra': 1.5615, 'taxa_venda': 1.3328, 'taxa_indicativa': 1.4377, 'desvio_padrao': 0.05, 'val_min_intervalo': 1.39, 'val_max_intervalo': 1.49, 'pu': 1038.182725, 'percent_pu_par': 100.49, 'duration': 765, 'percent_reune': '--', 'data_finalizado': '2025-01-24T19:30:56.59026', 'emissor': 'AURA ALMAS MINERACAO S.A. (*)'}\n"
     ]
    }
   ],
   "source": [
    "print(data[0])"
   ]
  },
  {
   "cell_type": "code",
   "execution_count": 29,
   "id": "e3ebc922-3f42-4db0-ab85-10fced0a3ac4",
   "metadata": {},
   "outputs": [
    {
     "name": "stdout",
     "output_type": "stream",
     "text": [
      "{'grupo': 'DI SPREAD', 'codigo_ativo': 'AALM12', 'data_referencia': '2025-01-24', 'data_vencimento': '2030-10-02', 'percentual_taxa': 'DI + 1,6000%', 'taxa_compra': 1.5615, 'taxa_venda': 1.3328, 'taxa_indicativa': 1.4377, 'desvio_padrao': 0.05, 'val_min_intervalo': 1.39, 'val_max_intervalo': 1.49, 'pu': 1038.182725, 'percent_pu_par': 100.49, 'duration': 765, 'percent_reune': '--', 'data_finalizado': '2025-01-24T19:30:56.59026', 'emissor': 'AURA ALMAS MINERACAO S.A. (*)'}\n"
     ]
    }
   ],
   "source": [
    "print(data['grupo'=='DI SPREAD'])"
   ]
  },
  {
   "cell_type": "code",
   "execution_count": 32,
   "id": "d5d71a79-7c37-4072-990f-4f5e78164d71",
   "metadata": {},
   "outputs": [
    {
     "name": "stdout",
     "output_type": "stream",
     "text": [
      "Códigos repetidos: set()\n",
      "Dicionários com códigos repetidos:\n"
     ]
    }
   ],
   "source": [
    "from collections import Counter\n",
    "\n",
    "codigos = [d['codigo_ativo'] for d in data]\n",
    "contador = Counter(codigos)\n",
    "\n",
    "# Passo 2: Identificar os códigos repetidos\n",
    "codigos_repetidos = {codigo for codigo, count in contador.items() if count > 1}\n",
    "\n",
    "# Passo 3: Filtrar os dicionários que possuem `codigo_ativo` repetido\n",
    "dicionarios_repetidos = [d for d in data if d['codigo_ativo'] in codigos_repetidos]\n",
    "\n",
    "# Exibir os resultados\n",
    "print(\"Códigos repetidos:\", codigos_repetidos)\n",
    "print(\"Dicionários com códigos repetidos:\")\n",
    "for d in dicionarios_repetidos:\n",
    "    print(d)"
   ]
  },
  {
   "cell_type": "code",
   "execution_count": null,
   "id": "beda445f-d89e-413f-8dbe-dc7f2e9e2944",
   "metadata": {},
   "outputs": [],
   "source": []
  }
 ],
 "metadata": {
  "kernelspec": {
   "display_name": "Python 3 (ipykernel)",
   "language": "python",
   "name": "python3"
  },
  "language_info": {
   "codemirror_mode": {
    "name": "ipython",
    "version": 3
   },
   "file_extension": ".py",
   "mimetype": "text/x-python",
   "name": "python",
   "nbconvert_exporter": "python",
   "pygments_lexer": "ipython3",
   "version": "3.12.7"
  }
 },
 "nbformat": 4,
 "nbformat_minor": 5
}
