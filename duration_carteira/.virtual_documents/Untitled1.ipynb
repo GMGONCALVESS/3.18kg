# import libraries
import pandas as pd
from sqlalchemy import create_engine, MetaData, Table
import time
import xlrd
from datetime import datetime, date, timedelta
from urllib.request import urlretrieve
from pandas.tseries.holiday import AbstractHolidayCalendar, Holiday
from pandas.tseries.offsets import CustomBusinessDay
import requests
from openpyxl import Workbook
import csv
import math
import numpy as np

tenores = pd.read_excel('curvadi_1902.xlsx')

print(tenores)

tenores = tenores.values
tenores = dict(tenores)

print(tenores)



tenores = pd.read_excel('curvadi_1902.xlsx')
tenores = tenores.values
tenores = dict(tenores)


print(tenores)



